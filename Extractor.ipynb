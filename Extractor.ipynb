{
  "nbformat": 4,
  "nbformat_minor": 0,
  "metadata": {
    "colab": {
      "name": "Extractor",
      "provenance": [],
      "collapsed_sections": [],
      "include_colab_link": true
    },
    "kernelspec": {
      "name": "python3",
      "display_name": "Python 3"
    }
  },
  "cells": [
    {
      "cell_type": "markdown",
      "metadata": {
        "id": "view-in-github",
        "colab_type": "text"
      },
      "source": [
        "<a href=\"https://colab.research.google.com/github/Yagwar/Sociadisticas/blob/master/Extractor.ipynb\" target=\"_parent\"><img src=\"https://colab.research.google.com/assets/colab-badge.svg\" alt=\"Open In Colab\"/></a>"
      ]
    },
    {
      "cell_type": "code",
      "metadata": {
        "id": "4dftfa3kppsw",
        "colab_type": "code",
        "colab": {}
      },
      "source": [
        "import json\n",
        "import pandas as pd\n",
        "import matplotlib.pyplot as plt\n",
        "import numpy as np\n",
        "import random\n",
        "import networkx as nx\n",
        "import multiprocessing as mp\n",
        "import csv\n",
        "\n",
        "\n",
        "import time\n",
        "import seaborn as sns\n",
        "sns.set(color_codes=True)\n",
        "\n",
        "import matplotlib.gridspec as gridspec\n",
        "from scipy.cluster import hierarchy\n",
        "\n",
        "import matplotlib as mpl\n",
        "mpl.style.use('seaborn-talk')\n",
        "%matplotlib inline"
      ],
      "execution_count": 0,
      "outputs": []
    },
    {
      "cell_type": "code",
      "metadata": {
        "id": "eZS1hXhmp8hV",
        "colab_type": "code",
        "outputId": "b9ddbf21-fd5f-4564-d9c4-27606418cb20",
        "colab": {
          "base_uri": "https://localhost:8080/",
          "height": 128
        }
      },
      "source": [
        "from google.colab import drive\n",
        "drive.mount('/content/gdrive')\n",
        "drive_path = 'gdrive/My Drive/Freelancer/alc_bog_19/'"
      ],
      "execution_count": 0,
      "outputs": [
        {
          "output_type": "stream",
          "text": [
            "Go to this URL in a browser: https://accounts.google.com/o/oauth2/auth?client_id=947318989803-6bn6qk8qdgf4n4g3pfee6491hc0brc4i.apps.googleusercontent.com&redirect_uri=urn%3Aietf%3Awg%3Aoauth%3A2.0%3Aoob&scope=email%20https%3A%2F%2Fwww.googleapis.com%2Fauth%2Fdocs.test%20https%3A%2F%2Fwww.googleapis.com%2Fauth%2Fdrive%20https%3A%2F%2Fwww.googleapis.com%2Fauth%2Fdrive.photos.readonly%20https%3A%2F%2Fwww.googleapis.com%2Fauth%2Fpeopleapi.readonly&response_type=code\n",
            "\n",
            "Enter your authorization code:\n",
            "··········\n",
            "Mounted at /content/gdrive\n"
          ],
          "name": "stdout"
        }
      ]
    },
    {
      "cell_type": "code",
      "metadata": {
        "colab_type": "code",
        "id": "n6tijZqNERXW",
        "colab": {}
      },
      "source": [
        "def tweet_extrac(tweet):\n",
        "  tweet_id = tweet[\"id_str\"] # Identificador del tweet\n",
        "  date_tweet=tweet[\"created_at\"]\n",
        "  user_id = tweet[\"user\"][\"id_str\"] # Identificador del usuario\n",
        "  user_name = tweet[\"user\"][\"screen_name\"] # Nombre del usuario\n",
        "  user_location = tweet[\"user\"][\"location\"]\n",
        "  user_verified = tweet[\"user\"][\"verified\"]\n",
        "  user_followers_count = tweet[\"user\"][\"followers_count\"]\n",
        "  user_friends_count = tweet[\"user\"][\"friends_count\"]\n",
        "  user_favourites_count = tweet[\"user\"][\"favourites_count\"]\n",
        "  user_statuses_count = tweet[\"user\"][\"statuses_count\"]\n",
        "  user_created_at = tweet[\"user\"][\"created_at\"]\n",
        "  is_retweet=False\n",
        "\n",
        "  tw_text=tweet[\"text\"]\n",
        "  if tweet[\"truncated\"]:#==\"True\": # Truncated indica si el tweet es corto o largo; si truncado, busca extendido\n",
        "      tw_text=tweet[\"extended_tweet\"][\"full_text\"]\n",
        "  else:\n",
        "      if tweet[\"text\"][0:2]==\"RT\":\n",
        "          is_retweet=True\n",
        "          try:\n",
        "            if tweet[\"retweeted_status\"][\"truncated\"]:\n",
        "              tw_text=tweet[\"retweeted_status\"][\"extended_tweet\"][\"full_text\"]\n",
        "            else: \n",
        "                tw_text=tweet[\"retweeted_status\"][\"text\"]\n",
        "          except:\n",
        "            tw_text=tweet[\"text\"]\n",
        "  is_quote_status=tweet[\"is_quote_status\"] #True/False\n",
        "  user_id_replyed=tweet['in_reply_to_user_id']#\n",
        "  user_name_replyed=tweet[\"in_reply_to_screen_name\"]\n",
        "  tweet_id_replyed=tweet['in_reply_to_status_id']\n",
        "  quote_count=tweet['quote_count']\n",
        "  reply_count=tweet['reply_count']\n",
        "  retweet_count=tweet['retweet_count']\n",
        "  retweeted=tweet[\"retweeted\"]\n",
        "  tweet_url=\"https://twitter.com/\"+user_name+\"/status/\"+tweet_id\n",
        "  is_reply=False\n",
        "  if not(tweet['in_reply_to_user_id']==None):\n",
        "    is_reply=True\n",
        "\n",
        "  return {\"tweet_id\":tweet_id,\n",
        "          \"date_tweet\":date_tweet,\n",
        "          \"user_id\":user_id,\n",
        "          \"user_name\":user_name,\n",
        "          \"user_location\":user_location,\n",
        "          \"user_verified\":user_verified,\n",
        "          \"user_followers_count\":user_followers_count,\n",
        "          \"user_friends_count\":user_friends_count,\n",
        "          \"user_favourites_count\":user_favourites_count,\n",
        "          \"user_statuses_count\":user_statuses_count,\n",
        "          \"user_created_at\":user_created_at,\n",
        "          \"is_retweet\":is_retweet,\n",
        "          \"tw_text\":tw_text,\n",
        "          \"is_quote_status\":is_quote_status,\n",
        "          \"is_reply\":is_reply,\n",
        "          \"user_id_replyed\":user_id_replyed,\n",
        "          \"user_name_replyed\":user_name_replyed,\n",
        "          \"tweet_id_replyed\":tweet_id_replyed,\n",
        "          \"quote_count\":quote_count,\n",
        "          \"reply_count\":reply_count,\n",
        "          \"retweet_count\":retweet_count,\n",
        "          \"retweeted\":retweeted,\n",
        "          \"tweet_url\":tweet_url\n",
        "         }\n",
        "\n",
        "# def line2csv (line, output_file, write_param=\"a\"):#a append # r write new file\n",
        "#   dict_extracted=\"\"\n",
        "#   try:\n",
        "#     tweet = json.loads(line)\n",
        "#     dict_extracted=tweet_extrac(tweet)\n",
        "#     df_extracted=pd.DataFrame([dict_extracted])\n",
        "#     with open(output_file, write_param) as f:\n",
        "#       writer = csv.writer(f)\n",
        "#       writer.writerow(list(dict_extracted.values()))\n",
        "#   return dict_extracted\n",
        "\n",
        "# def tw2csv (tweet, output_file, write_param=\"a\"):#a append # r write new file\n",
        "#   dict_extracted=tweet_extrac(tweet)\n",
        "#   df_extracted=pd.DataFrame([dict_extracted])\n",
        "#   with open(output_file, write_param) as f:\n",
        "#     writer = csv.writer(f)\n",
        "#     writer.writerow(list(dict_extracted.values()))\n",
        "#   return dict_extracted"
      ],
      "execution_count": 0,
      "outputs": []
    },
    {
      "cell_type": "code",
      "metadata": {
        "id": "13l5OZn-1FuB",
        "colab_type": "code",
        "colab": {}
      },
      "source": [
        "tweets_datas_path = [\n",
        "    drive_path+\"candidatos_alcaldia_7.json\",\n",
        "    drive_path+\"candidatos_alcaldia_8.json\",\n",
        "    drive_path+\"candidatos_alcaldia_9.json\",\n",
        "    drive_path+\"candidatos_alcaldia_10.json\",\n",
        "    drive_path+\"candidatos_alcaldia_11.json\"\n",
        "]"
      ],
      "execution_count": 0,
      "outputs": []
    },
    {
      "cell_type": "markdown",
      "metadata": {
        "id": "5hVjZhx0ImZL",
        "colab_type": "text"
      },
      "source": [
        "# Plan de trabajo\n",
        "- Extraer las variables de interés\n",
        "- Identificar si dentro de las menciones están los candidatos a la alcaldía.\n",
        "- Integrar en un data frame la extracción."
      ]
    },
    {
      "cell_type": "code",
      "metadata": {
        "id": "-qidkFlZrV8a",
        "colab_type": "code",
        "colab": {}
      },
      "source": [
        "cuentas=[\"ClaudiaLopez\",\"carlosfgalan\",\"angelamrobledo\",\"MiguelUribeT\",\"angelagarzonc\",\n",
        "         \"luchogarzon\",\"hollmanmorris\",\"MAndreaNieto\",\"CelioNievesH\",\"jerojasrodrigue\",\n",
        "         \"LuisErnestoGL\"]\n",
        "ids_cands=[\"137908875\",\"64791701\",\"165748292\",\"163341528\",\"325856294\",\n",
        "           \"60161414\",\"87266285\",\"999594384\",\"240409671\",\"233001872\",\n",
        "           \"2499219806\"]"
      ],
      "execution_count": 0,
      "outputs": []
    },
    {
      "cell_type": "markdown",
      "metadata": {
        "id": "RhYttNQY0_BB",
        "colab_type": "text"
      },
      "source": [
        "# Complete Tweets Extractor\n"
      ]
    },
    {
      "cell_type": "code",
      "metadata": {
        "id": "Ufk7kgUn1Fri",
        "colab_type": "code",
        "colab": {}
      },
      "source": [
        "# tweet_complete=[]\n",
        "# extracts_twts=[]\n",
        "# mentioned_ids=[]"
      ],
      "execution_count": 0,
      "outputs": []
    },
    {
      "cell_type": "code",
      "metadata": {
        "id": "-OIn2Vwi1Fov",
        "colab_type": "code",
        "outputId": "671f6000-2012-4ba0-a230-576232d5654f",
        "colab": {
          "base_uri": "https://localhost:8080/",
          "height": 104
        }
      },
      "source": [
        "completed. Total time: time_1_read=time.time()\n",
        "# i=0\n",
        "\n",
        "for json_file in tweets_datas_path:\n",
        "  with open(json_file, \"r\") as tweets_file:\n",
        "    for line in tweets_file:\n",
        "#       i+=1\n",
        "#       if i>200:#00:\n",
        "#         break\n",
        "      try:\n",
        "        tw_entities=[]\n",
        "        tweet = json.loads(line)\n",
        "#         tweet_complete.extend([tweet])\n",
        "        tw_entities.extend(tweet[\"entities\"][\"user_mentions\"])\n",
        "        if tweet[\"text\"][0:2]==\"RT\":\n",
        "          try:\n",
        "            if tweet[\"retweeted_status\"][\"truncated\"]:\n",
        "              tw_entities.extend(tweet[\"retweeted_status\"][\"extended_tweet\"][\"entities\"][\"user_mentions\"])\n",
        "            else:\n",
        "              tw_entities.extend(tweet[\"retweeted_status\"][\"entities\"][\"user_mentions\"])\n",
        "          except:\n",
        "            tw_entities.extend(tweet[\"entities\"][\"user_mentions\"])\n",
        "        extracted=tweet_extrac(tweet)\n",
        "#         extracts_twts.append(extracted)\n",
        "        mentions_info=[tweet[\"id_str\"],\n",
        "                       tweet[\"user\"][\"screen_name\"],\n",
        "                       list(set([ent[\"id_str\"] for ent in tw_entities])),\n",
        "                       list(set([ent[\"screen_name\"] for ent in tw_entities]))]\n",
        "        out_mentions_cands=[tweet[\"id_str\"]]\n",
        "        out_mentions_cands.extend([cand_id in mentions_info[2] for cand_id in ids_cands])\n",
        "        with open(drive_path+'cands_mentions.csv', 'a', newline='') as cnd_mnts:\n",
        "          writer = csv.writer(cnd_mnts)\n",
        "          writer.writerow(out_mentions_cands)#tweet[\"id_str\"],\n",
        "        with open(drive_path+'mentions.csv', 'a', newline='') as ments_gral:\n",
        "          writer = csv.writer(ments_gral)\n",
        "          writer.writerow(mentions_info)\n",
        "        with open(drive_path+'extracted_dict.csv', 'a', newline='') as ext_dict:\n",
        "          writer = csv.writer(ext_dict)\n",
        "          writer.writerow(list(extracted.values()))\n",
        "      except:\n",
        "        continue\n",
        "  print(json_file,\"completed. Total time:\", str(time.time()-time_1_read),\"seconds; \",)\n",
        "# print(str(time.time()-time_1_read),\"seconds; \",str(len(tweet_complete)),\"registros\")"
      ],
      "execution_count": 0,
      "outputs": [
        {
          "output_type": "stream",
          "text": [
            "gdrive/My Drive/Freelancer/alc_bog_19/candidatos_alcaldia_7.json completed. Total time: 3843.2697072029114 seconds; \n",
            "gdrive/My Drive/Freelancer/alc_bog_19/candidatos_alcaldia_8.json completed. Total time: 7516.527146577835 seconds; \n",
            "gdrive/My Drive/Freelancer/alc_bog_19/candidatos_alcaldia_9.json completed. Total time: 11047.429228305817 seconds; \n",
            "gdrive/My Drive/Freelancer/alc_bog_19/candidatos_alcaldia_10.json completed. Total time: 14595.582593202591 seconds; \n",
            "gdrive/My Drive/Freelancer/alc_bog_19/candidatos_alcaldia_11.json completed. Total time: 18407.491209745407 seconds; \n"
          ],
          "name": "stdout"
        }
      ]
    },
    {
      "cell_type": "markdown",
      "metadata": {
        "id": "8RdwJtJkZX2k",
        "colab_type": "text"
      },
      "source": [
        "    gdrive/My Drive/Freelancer/alc_bog_19/candidatos_alcaldia_7.json completed. Total time: 3843.2697072029114 seconds; \n",
        "    gdrive/My Drive/Freelancer/alc_bog_19/candidatos_alcaldia_8.json completed. Total time: 7516.527146577835 seconds; \n",
        "    gdrive/My Drive/Freelancer/alc_bog_19/candidatos_alcaldia_9.json completed. Total time: 11047.429228305817 seconds; \n",
        "    gdrive/My Drive/Freelancer/alc_bog_19/candidatos_alcaldia_10.json completed. Total time: 14595.582593202591 seconds; \n",
        "    gdrive/My Drive/Freelancer/alc_bog_19/candidatos_alcaldia_11.json completed. Total time: 18407.491209745407 seconds; "
      ]
    },
    {
      "cell_type": "code",
      "metadata": {
        "id": "tHZemD6ag8Oj",
        "colab_type": "code",
        "colab": {}
      },
      "source": [
        "# time_1_extract=time.time()\n",
        "# i_process=0\n",
        "# for tweet in tweet_complete:\n",
        "#   extracts_twts.append(tweet_extrac(tweet))\n",
        "#   i_process+=1\n",
        "# print(str(time.time()-time_1_extract),\"seconds; \",str(len(extracts_twts)),\"registros\")"
      ],
      "execution_count": 0,
      "outputs": []
    },
    {
      "cell_type": "code",
      "metadata": {
        "id": "rM0KgZZmZDhV",
        "colab_type": "code",
        "colab": {}
      },
      "source": [
        "# dats_extracted=pd.DataFrame(extracts_twts)"
      ],
      "execution_count": 0,
      "outputs": []
    },
    {
      "cell_type": "code",
      "metadata": {
        "id": "jaVFGGuUYoLN",
        "colab_type": "code",
        "colab": {}
      },
      "source": [
        "# print(dats_extracted.shape)\n",
        "# dats_extracted.sample(20)"
      ],
      "execution_count": 0,
      "outputs": []
    },
    {
      "cell_type": "code",
      "metadata": {
        "id": "0qAa6imESLQe",
        "colab_type": "code",
        "colab": {}
      },
      "source": [
        "# dats_extracted.to_csv(drive_path+\"candidatos_alcaldia_2.csv\")"
      ],
      "execution_count": 0,
      "outputs": []
    },
    {
      "cell_type": "markdown",
      "metadata": {
        "id": "ewZjqal2_xFl",
        "colab_type": "text"
      },
      "source": [
        "# Second version\n"
      ]
    },
    {
      "cell_type": "code",
      "metadata": {
        "id": "MNqaonhxP-hQ",
        "colab_type": "code",
        "colab": {}
      },
      "source": [
        "# tweet=tweet_complete[199]\n",
        "# tw_entities=[]"
      ],
      "execution_count": 0,
      "outputs": []
    },
    {
      "cell_type": "code",
      "metadata": {
        "id": "0c4edfB8Klwv",
        "colab_type": "code",
        "outputId": "d4df16d3-9252-43f0-e043-156e3ca66563",
        "colab": {
          "base_uri": "https://localhost:8080/",
          "height": 456
        }
      },
      "source": [
        "# xtrct=tweet_extrac(tweet)\n",
        "# list(xtrct.values())\n",
        "# # list(xtrct.keys())\n",
        "# # list(tweet_extrac(.values())"
      ],
      "execution_count": 0,
      "outputs": [
        {
          "output_type": "execute_result",
          "data": {
            "text/plain": [
              "['1171925765283307521',\n",
              " 'Wed Sep 11 23:17:30 +0000 2019',\n",
              " '296637311',\n",
              " 'kikearcinieg',\n",
              " None,\n",
              " False,\n",
              " 1180,\n",
              " 4957,\n",
              " 30013,\n",
              " 42647,\n",
              " 'Wed May 11 04:23:37 +0000 2011',\n",
              " True,\n",
              " '¿saben por qué @EnriquePenalosa le solicita a la Contraloría General asumir la auditoría a la Empresa Metro? Porque así le quita la competencia de investigar a la Contraloría de Bogotá. Es una forma de detener la investigación en curso. @HOLLMANMORRIS https://t.co/8qSGxdzMR6',\n",
              " False,\n",
              " False,\n",
              " None,\n",
              " None,\n",
              " None,\n",
              " 0,\n",
              " 0,\n",
              " 0,\n",
              " False,\n",
              " 'https://twitter.com/kikearcinieg/status/1171925765283307521']"
            ]
          },
          "metadata": {
            "tags": []
          },
          "execution_count": 75
        }
      ]
    },
    {
      "cell_type": "code",
      "metadata": {
        "id": "vghGVcg8Kltb",
        "colab_type": "code",
        "colab": {}
      },
      "source": [
        "# tw_entities.extend(tweet[\"entities\"][\"user_mentions\"])\n",
        "# if tweet[\"text\"][0:2]==\"RT\":\n",
        "#     try:\n",
        "#       if tweet[\"retweeted_status\"][\"truncated\"]:\n",
        "#         tw_entities.extend(tweet[\"retweeted_status\"][\"extended_tweet\"][\"entities\"][\"user_mentions\"])\n",
        "#       else: \n",
        "#           tw_entities.extend(tweet[\"retweeted_status\"][\"entities\"][\"user_mentions\"])\n",
        "#     except:\n",
        "#       tw_entities.extend(tweet[\"entities\"][\"user_mentions\"])\n"
      ],
      "execution_count": 0,
      "outputs": []
    },
    {
      "cell_type": "code",
      "metadata": {
        "id": "q36ePFZ4Uch2",
        "colab_type": "code",
        "colab": {}
      },
      "source": [
        ""
      ],
      "execution_count": 0,
      "outputs": []
    },
    {
      "cell_type": "code",
      "metadata": {
        "id": "kZDUIaT9M-LM",
        "colab_type": "code",
        "outputId": "109f7542-ef01-42a9-d2bb-1aaeece29b0d",
        "colab": {
          "base_uri": "https://localhost:8080/",
          "height": 90
        }
      },
      "source": [
        "# [tweet[\"id_str\"],\n",
        "#  tweet[\"user\"][\"screen_name\"],\n",
        "#  list(set([ent[\"id_str\"] for ent in tw_entities])),\n",
        "#  list(set([ent[\"screen_name\"] for ent in tw_entities]))\n",
        "# ]"
      ],
      "execution_count": 0,
      "outputs": [
        {
          "output_type": "execute_result",
          "data": {
            "text/plain": [
              "['1171925765283307521',\n",
              " 'kikearcinieg',\n",
              " ['108717093', '66172488', '87266285'],\n",
              " ['EnriquePenalosa', 'MaPaulaFonseca', 'HOLLMANMORRIS']]"
            ]
          },
          "metadata": {
            "tags": []
          },
          "execution_count": 78
        }
      ]
    },
    {
      "cell_type": "code",
      "metadata": {
        "id": "5JEDmp_qQCu3",
        "colab_type": "code",
        "outputId": "d1575221-5cb1-4800-c136-1cd671284cdb",
        "colab": {
          "base_uri": "https://localhost:8080/",
          "height": 35
        }
      },
      "source": [
        "# list(set([ent[\"screen_name\"] for ent in tw_entities]))"
      ],
      "execution_count": 0,
      "outputs": [
        {
          "output_type": "execute_result",
          "data": {
            "text/plain": [
              "[]"
            ]
          },
          "metadata": {
            "tags": []
          },
          "execution_count": 71
        }
      ]
    },
    {
      "cell_type": "code",
      "metadata": {
        "id": "PJnol9NMUIai",
        "colab_type": "code",
        "colab": {}
      },
      "source": [
        "# tw_entities.extend(tweet[\"entities\"][\"user_mentions\"])\n"
      ],
      "execution_count": 0,
      "outputs": []
    },
    {
      "cell_type": "code",
      "metadata": {
        "id": "nbEdWHXcVmYM",
        "colab_type": "code",
        "outputId": "360038c9-1578-42b8-c59c-d68136feddd8",
        "colab": {
          "base_uri": "https://localhost:8080/",
          "height": 199
        }
      },
      "source": [
        ""
      ],
      "execution_count": 0,
      "outputs": [
        {
          "output_type": "execute_result",
          "data": {
            "text/plain": [
              "[{'id': 108717093,\n",
              "  'id_str': '108717093',\n",
              "  'indices': [15, 31],\n",
              "  'name': 'Enrique Peñalosa',\n",
              "  'screen_name': 'EnriquePenalosa'},\n",
              " {'id': 87266285,\n",
              "  'id_str': '87266285',\n",
              "  'indices': [237, 251],\n",
              "  'name': 'Hollman Morris 🚇🌳👩🏽\\u200d🎓',\n",
              "  'screen_name': 'HOLLMANMORRIS'}]"
            ]
          },
          "metadata": {
            "tags": []
          },
          "execution_count": 67
        }
      ]
    },
    {
      "cell_type": "code",
      "metadata": {
        "id": "DJMbTW9ZSd8r",
        "colab_type": "code",
        "outputId": "b7691b7d-740d-4b6c-8b5c-9ad08e947a19",
        "colab": {
          "base_uri": "https://localhost:8080/",
          "height": 108
        }
      },
      "source": [
        "# tweet[\"retweeted_status\"][\"entities\"][\"user_mentions\"]"
      ],
      "execution_count": 0,
      "outputs": [
        {
          "output_type": "execute_result",
          "data": {
            "text/plain": [
              "[{'id': 108717093,\n",
              "  'id_str': '108717093',\n",
              "  'indices': [15, 31],\n",
              "  'name': 'Enrique Peñalosa',\n",
              "  'screen_name': 'EnriquePenalosa'}]"
            ]
          },
          "metadata": {
            "tags": []
          },
          "execution_count": 58
        }
      ]
    },
    {
      "cell_type": "code",
      "metadata": {
        "id": "XvYgplErclBm",
        "colab_type": "code",
        "colab": {}
      },
      "source": [
        "# tot_ents=[]\n",
        "# for tweet in tweet_complete:\n",
        "#   tw_entities=[]\n",
        "#   tw_entities.extend(tweet[\"entities\"][\"user_mentions\"])\n",
        "#   if tweet[\"text\"][0:2]==\"RT\":\n",
        "#     try:\n",
        "#       if tweet[\"retweeted_status\"][\"truncated\"]:\n",
        "#         tw_entities.extend(tweet[\"retweeted_status\"][\"extended_tweet\"][\"entities\"][\"user_mentions\"])\n",
        "#       else: \n",
        "#         tw_entities.extend(tweet[\"retweeted_status\"][\"entities\"][\"user_mentions\"])\n",
        "#     except:\n",
        "#       tw_entities.extend(tweet[\"entities\"][\"user_mentions\"])\n",
        "#   tot_ents.append([tweet[\"id_str\"],\n",
        "#                    tweet[\"user\"][\"screen_name\"],\n",
        "#                    list(set([ent[\"id_str\"] for ent in tw_entities])),\n",
        "#                    list(set([ent[\"screen_name\"] for ent in tw_entities]))\n",
        "#                   ])"
      ],
      "execution_count": 0,
      "outputs": []
    },
    {
      "cell_type": "code",
      "metadata": {
        "id": "pCjOP0iTck-1",
        "colab_type": "code",
        "outputId": "cc19c9de-fc5e-4440-e687-d52f8a97ac69",
        "colab": {
          "base_uri": "https://localhost:8080/",
          "height": 90
        }
      },
      "source": [
        "# tot_ents[150]#[2]"
      ],
      "execution_count": 0,
      "outputs": [
        {
          "output_type": "execute_result",
          "data": {
            "text/plain": [
              "['1171924904591142913',\n",
              " 'NanyPardo',\n",
              " ['137908875', '163341528', '64791701', '534740565', '87266285'],\n",
              " ['MiguelUribeT', 'CarlosFGalan', 'ClaudiaLopez', 'carjotaz', 'HOLLMANMORRIS']]"
            ]
          },
          "metadata": {
            "tags": []
          },
          "execution_count": 102
        }
      ]
    },
    {
      "cell_type": "code",
      "metadata": {
        "id": "1B1HO9O6fHgW",
        "colab_type": "code",
        "outputId": "29a1bc97-a203-4c16-cb46-ab4f487dee37",
        "colab": {
          "base_uri": "https://localhost:8080/",
          "height": 217
        }
      },
      "source": [
        "# cuentas\n",
        "# ids_cands"
      ],
      "execution_count": 0,
      "outputs": [
        {
          "output_type": "execute_result",
          "data": {
            "text/plain": [
              "['ClaudiaLopez',\n",
              " 'carlosfgalan',\n",
              " 'angelamrobledo',\n",
              " 'MiguelUribeT',\n",
              " 'angelagarzonc',\n",
              " 'luchogarzon',\n",
              " 'hollmanmorris',\n",
              " 'MAndreaNieto',\n",
              " 'CelioNievesH',\n",
              " 'jerojasrodrigue',\n",
              " 'LuisErnestoGL']"
            ]
          },
          "metadata": {
            "tags": []
          },
          "execution_count": 104
        }
      ]
    },
    {
      "cell_type": "code",
      "metadata": {
        "id": "4uSxecP3fhUt",
        "colab_type": "code",
        "colab": {}
      },
      "source": [
        "# # np.array([[cand_id in ments_list[2] for cand_id in ids_cands]for ments_list in tot_ents]).shape\n",
        "# out_test=[tweet[\"id_str\"]]\n",
        "# out_test.extend([cand_id in tot_ents[150][2] for cand_id in ids_cands])#.extend(tweet[\"id_str\"])"
      ],
      "execution_count": 0,
      "outputs": []
    },
    {
      "cell_type": "code",
      "metadata": {
        "id": "w0mMieZAi5pW",
        "colab_type": "code",
        "outputId": "c4c53402-c377-41c2-a63f-dd7fcdc06c8e",
        "colab": {
          "base_uri": "https://localhost:8080/",
          "height": 235
        }
      },
      "source": [
        "# out_test"
      ],
      "execution_count": 0,
      "outputs": [
        {
          "output_type": "execute_result",
          "data": {
            "text/plain": [
              "['1171925765283307521',\n",
              " True,\n",
              " True,\n",
              " False,\n",
              " True,\n",
              " False,\n",
              " False,\n",
              " True,\n",
              " False,\n",
              " False,\n",
              " False,\n",
              " False]"
            ]
          },
          "metadata": {
            "tags": []
          },
          "execution_count": 131
        }
      ]
    },
    {
      "cell_type": "code",
      "metadata": {
        "id": "aYFUPnrPi-t1",
        "colab_type": "code",
        "outputId": "e92fe375-dac2-404b-dc78-02c08c592884",
        "colab": {
          "base_uri": "https://localhost:8080/",
          "height": 35
        }
      },
      "source": [
        ""
      ],
      "execution_count": 0,
      "outputs": [
        {
          "output_type": "execute_result",
          "data": {
            "text/plain": [
              "['1171925765283307521']"
            ]
          },
          "metadata": {
            "tags": []
          },
          "execution_count": 127
        }
      ]
    },
    {
      "cell_type": "code",
      "metadata": {
        "id": "koJDn-iOjJ-O",
        "colab_type": "code",
        "outputId": "6c82599c-40d3-43c8-8818-7b42f5ca5509",
        "colab": {
          "base_uri": "https://localhost:8080/",
          "height": 35
        }
      },
      "source": [
        "# tweet[\"id_str\"]"
      ],
      "execution_count": 0,
      "outputs": [
        {
          "output_type": "execute_result",
          "data": {
            "text/plain": [
              "'1171925765283307521'"
            ]
          },
          "metadata": {
            "tags": []
          },
          "execution_count": 124
        }
      ]
    }
  ]
}